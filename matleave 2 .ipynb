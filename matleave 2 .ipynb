{
 "cells": [
  {
   "cell_type": "code",
   "execution_count": 141,
   "metadata": {
    "collapsed": true
   },
   "outputs": [],
   "source": [
    "# IMPORT LIBRARIES\n",
    "import pandas as pd\n",
    "import numpy as np\n",
    "\n",
    "# FOR WEBSCRAPING \n",
    "import requests\n",
    "import requests_ftp\n",
    "import requests_cache\n",
    "import lxml\n",
    "import re\n",
    "import urllib\n",
    "from bs4 import BeautifulSoup\n",
    "from collections import Counter\n",
    "\n",
    "# PLOTTING\n",
    "import seaborn as sns\n",
    "from matplotlib import pyplot as plt\n",
    "plt.style.use('ggplot')\n",
    "%matplotlib inline\n",
    "\n",
    "# CACHE\n",
    "requests_cache.install_cache('urban_cache')"
   ]
  },
  {
   "cell_type": "code",
   "execution_count": 142,
   "metadata": {
    "collapsed": false
   },
   "outputs": [],
   "source": [
    "# WEBSCRAPING FAIRYGODBOSS\n",
    "url_req = requests.get(\"https://fairygodboss.com/maternity-leave-resource-center\")\n",
    "html = url_req.text\n",
    "soup = BeautifulSoup(html, 'lxml')"
   ]
  },
  {
   "cell_type": "code",
   "execution_count": 143,
   "metadata": {
    "collapsed": false
   },
   "outputs": [],
   "source": [
    "company_info_all = []\n",
    "for i in range(80): # we know that \"end\" page on the site is 79\n",
    "    base_url = 'https://fairygodboss.com/maternity-leave-resource-center'\n",
    "    page = base_url + '?page=' + str(i)\n",
    "    url_req = requests.get(page)\n",
    "    html = url_req.text\n",
    "    soup = BeautifulSoup(html, 'lxml')\n",
    "    company_info = soup.select('a[href*=\"/company-overview/\"]') #after inspecting element, this is where our info is \n",
    "    company_info_all.append(company_info)\n",
    "#company_info_all[1]"
   ]
  },
  {
   "cell_type": "code",
   "execution_count": 144,
   "metadata": {
    "collapsed": false
   },
   "outputs": [
    {
     "ename": "SyntaxError",
     "evalue": "invalid syntax (<ipython-input-144-3af1c1a31063>, line 30)",
     "output_type": "error",
     "traceback": [
      "\u001b[0;36m  File \u001b[0;32m\"<ipython-input-144-3af1c1a31063>\"\u001b[0;36m, line \u001b[0;32m30\u001b[0m\n\u001b[0;31m    df['sector'] =\u001b[0m\n\u001b[0m                   ^\u001b[0m\n\u001b[0;31mSyntaxError\u001b[0m\u001b[0;31m:\u001b[0m invalid syntax\n"
     ]
    }
   ],
   "source": [
    "# CREATE EMPTY LISTS FOR DATAFRAME: we need company name, industry, and 2 types of leave for each type of parent \n",
    "name = []\n",
    "industry = []\n",
    "mat_leave_pd = []\n",
    "mat_leave_unp = []\n",
    "pat_leave_pd = []\n",
    "pat_leave_unp = []\n",
    "for i in range(len(company_info_all)):\n",
    "    company_info = company_info_all[i] #extract element from list\n",
    "    for i in range(len(company_info)):\n",
    "        s = company_info[i] #extract element from sublist to get relevant information\n",
    "        #print s\n",
    "        \n",
    "        for i in range(len(s)):\n",
    "            \n",
    "            #s.find_all('li') has 6 different elements that we want, so we can use the indices 0:5 to find them\n",
    "            name.append(s.find_all('li')[0].text.strip(\"\\n\"))\n",
    "            industry.append(s.find_all('li')[1].text.split(' \\n')[1].strip())\n",
    "            mat_leave_pd.append(s.find_all('li')[2].text.split(' \\n')[1].strip())\n",
    "            mat_leave_unp.append(s.find_all('li')[3].text.split(' \\n')[1].strip())\n",
    "            pat_leave_pd.append(s.find_all('li')[4].text.split(' \\n')[1].strip())\n",
    "            pat_leave_unp.append(s.find_all('li')[5].text.split(' \\n')[1].strip())\n",
    "\n",
    "# CREATE DATAFRAME\n",
    "df = pd.DataFrame({\"name\":name, \"industry\":industry, \"maternity leave paid\":mat_leave_pd, \"maternity leave unpaid\":mat_leave_unp, \"paternity leave paid\":pat_leave_pd, \"paternity leave unpaid\":pat_leave_unp})\n",
    "df.dropna()\n",
    "\n",
    "# DROP DUPLICATES, KEEPING ONLY ONE OF EACH COMPANY\n",
    "df.drop_duplicates(subset = ['name'], keep = 'first', inplace = True)\n",
    "df['sector'] = "
   ]
  },
  {
   "cell_type": "code",
   "execution_count": null,
   "metadata": {
    "collapsed": false
   },
   "outputs": [],
   "source": [
    "#df #we could poentially take the mean of each paid matleave and patleave and bargraph it according to each industry. hell yeah\n",
    "df['industry'].value_counts()"
   ]
  },
  {
   "cell_type": "markdown",
   "metadata": {},
   "source": [
    "`df` is the dataframe I want to work with. The relevant information given by this dataset is industry, company name, and maternity and paternity leave (paid and unpaid for both). For the purposes of our analysis, we are going to focus on paid parental leave and see how this plays a role in social trends. "
   ]
  },
  {
   "cell_type": "markdown",
   "metadata": {},
   "source": [
    "First, as a summary, we want to determine how many types of industries there are in our dataframe and how many companies there are per industry. We can do this by just counting the unique values. A couple issues with this are that there are no duplicate industries at all, from a pandas perspective. When we look at it visually, we see that there are \"groups\" of industries such a \"Technology: Security\" and \"Technology: Software\", etc. First, we were going to create a column called `df['sector']` with industry names up till the \":\" (using regex), but we decided it would be a better idea to just make the `sector` column by extracting the first word of every industry string. \n",
    "\n",
    "Since the Pew Research institute published studies primarily on Politics and Business, we have identified 4 sectors we want to look at: Technology, Government, Business, and Nonprofit. We chose the government and business sectors so we could see if it will shed some quantitative shining light on Pew's findings, technology because it has the largest sample of companies but is also an extremely relevant and growing industry. We are also interested in looking at the nonprofit sector. "
   ]
  },
  {
   "cell_type": "markdown",
   "metadata": {},
   "source": [
    "Now that we have our dataframe with \"sector\", we will create a new dataframe that only has the 5 sectors that we want and call it `sectordf`. "
   ]
  },
  {
   "cell_type": "code",
   "execution_count": null,
   "metadata": {
    "collapsed": false
   },
   "outputs": [],
   "source": [
    "# GET ALL ROWS FOR WHICH THE INDUSTRY STARTS WITH ONE OF OUR 4 CRITERIA\n",
    "sectordf = df.loc[df.industry.str.startswith((\"Technology\", \"Nonprofit\", \"Business\", \"Government\")), :]\n",
    "sectordf.apply(lambda x: pd.to_numeric(x, errors = 'ignore'))"
   ]
  },
  {
   "cell_type": "markdown",
   "metadata": {},
   "source": [
    "For now, we're interested in making a bar plot of maternity leave for the technology industry. Let's see how to do that. "
   ]
  },
  {
   "cell_type": "code",
   "execution_count": null,
   "metadata": {
    "collapsed": false
   },
   "outputs": [],
   "source": [
    "pd.to_numeric(sectordf.loc['maternity leave paid'], errors='coerce')"
   ]
  },
  {
   "cell_type": "code",
   "execution_count": null,
   "metadata": {
    "collapsed": false
   },
   "outputs": [],
   "source": [
    "#Distributions\n",
    "#dists=sns.boxplot(\"Avg Price per Lb\", \"Type\", data = df3)\n",
    "#plt.show(dists)\n",
    "\n",
    "#include a column for \"sector\" \n",
    "#strip the colons \n",
    "sectordf['maternity leave paid']\n",
    "#techs = sns.boxplot(\"maternity leave paid\", \"industry\", data = sectordf)\n",
    "#plt.show(techs)"
   ]
  },
  {
   "cell_type": "code",
   "execution_count": 140,
   "metadata": {
    "collapsed": false
   },
   "outputs": [
    {
     "data": {
      "text/plain": [
       "0.25"
      ]
     },
     "execution_count": 140,
     "metadata": {},
     "output_type": "execute_result"
    }
   ],
   "source": [
    "1/float(1+3)"
   ]
  }
 ],
 "metadata": {
  "anaconda-cloud": {},
  "kernelspec": {
   "display_name": "Python [default]",
   "language": "python",
   "name": "python2"
  },
  "language_info": {
   "codemirror_mode": {
    "name": "ipython",
    "version": 2
   },
   "file_extension": ".py",
   "mimetype": "text/x-python",
   "name": "python",
   "nbconvert_exporter": "python",
   "pygments_lexer": "ipython2",
   "version": "2.7.12"
  }
 },
 "nbformat": 4,
 "nbformat_minor": 1
}
